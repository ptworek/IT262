{
  "nbformat": 4,
  "nbformat_minor": 0,
  "metadata": {
    "colab": {
      "name": "PatrickT_RiskMap.ipynb",
      "provenance": [],
      "collapsed_sections": [],
      "authorship_tag": "ABX9TyP2AAVxfcuTHAyb35jpy3Ik",
      "include_colab_link": true
    },
    "kernelspec": {
      "name": "python3",
      "display_name": "Python 3"
    },
    "language_info": {
      "name": "python"
    }
  },
  "cells": [
    {
      "cell_type": "markdown",
      "metadata": {
        "id": "view-in-github",
        "colab_type": "text"
      },
      "source": [
        "<a href=\"https://colab.research.google.com/github/ptworek/IT262/blob/main/PatrickT_RiskMap.ipynb\" target=\"_parent\"><img src=\"https://colab.research.google.com/assets/colab-badge.svg\" alt=\"Open In Colab\"/></a>"
      ]
    },
    {
      "cell_type": "code",
      "execution_count": 40,
      "metadata": {
        "colab": {
          "base_uri": "https://localhost:8080/",
          "height": 491
        },
        "id": "vaIoNX-ari83",
        "outputId": "9170d411-d85f-4fe6-a124-ae0b57c54df7"
      },
      "outputs": [
        {
          "output_type": "stream",
          "name": "stdout",
          "text": [
            "likelihood  0.1  0.2  0.4  0.5\n",
            "impact                        \n",
            "1           0.1  NaN  NaN  NaN\n",
            "2           NaN  NaN  0.8  NaN\n",
            "7           NaN  1.4  NaN  NaN\n",
            "10          NaN  NaN  NaN  5.0\n",
            "likelihood    0.1     0.2   0.4       0.5\n",
            "impact                                   \n",
            "1           users     NaN   NaN       NaN\n",
            "2             NaN     NaN  team       NaN\n",
            "7             NaN  budget   NaN       NaN\n",
            "10            NaN     NaN   NaN  security\n"
          ]
        },
        {
          "output_type": "display_data",
          "data": {
            "image/png": "[encoded data removed]",
            "text/plain": [
              "<Figure size 432x288 with 2 Axes>"
            ]
          },
          "metadata": {
            "needs_background": "light"
          }
        }
      ],
      "source": [
        "import seaborn as sns\n",
        "import pandas as pd\n",
        "import numpy as nd\n",
        "\n",
        "#create a dataframe\n",
        "df = pd.DataFrame(columns = ['risk', 'likelihood','impact','score'])\n",
        "\n",
        "df['risk'] = ['users', 'team', 'budget', 'security']\n",
        "\n",
        "df['likelihood']=[0.1,0.4,0.2,0.5]\n",
        "df['impact'] = [1,2,7,10]\n",
        "\n",
        "df['score'] = df['impact']*df['likelihood']\n",
        "\n",
        "scoresPivot = df.pivot('impact', 'likelihood', 'score')\n",
        "print(scoresPivot)\n",
        "\n",
        "labelsPivot = df.pivot('impact', 'likelihood', 'risk')\n",
        "print(labelsPivot)\n",
        "\n",
        "#replaces no labels with empty strings\n",
        "labelsPivot.fillna('',inplace = True)\n",
        "\n",
        "#simple heatmap\n",
        "p1 = sns.heatmap(scoresPivot, cmap = \"crest\", annot = labelsPivot, fmt = '')"
      ]
    }
  ]
}