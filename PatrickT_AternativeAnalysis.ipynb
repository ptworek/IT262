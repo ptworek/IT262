{
  "nbformat": 4,
  "nbformat_minor": 0,
  "metadata": {
    "colab": {
      "name": "PatrickT_AternativeAnalysis.ipynb",
      "provenance": [],
      "collapsed_sections": [],
      "authorship_tag": "ABX9TyORehDrg53gdoVjCJI8NZXT",
      "include_colab_link": true
    },
    "kernelspec": {
      "name": "python3",
      "display_name": "Python 3"
    },
    "language_info": {
      "name": "python"
    }
  },
  "cells": [
    {
      "cell_type": "markdown",
      "metadata": {
        "id": "view-in-github",
        "colab_type": "text"
      },
      "source": [
        "<a href=\"https://colab.research.google.com/github/ptworek/IT262/blob/main/PatrickT_AternativeAnalysis.ipynb\" target=\"_parent\"><img src=\"https://colab.research.google.com/assets/colab-badge.svg\" alt=\"Open In Colab\"/></a>"
      ]
    },
    {
      "cell_type": "code",
      "execution_count": null,
      "metadata": {
        "colab": {
          "base_uri": "https://localhost:8080/"
        },
        "id": "25TtzhMn-g1s",
        "outputId": "70c2d3b7-f761-4faf-8f5a-f9385044164c"
      },
      "outputs": [
        {
          "output_type": "stream",
          "name": "stdout",
          "text": [
            "Empty DataFrame\n",
            "Columns: [cirteria, weight, ratingA, ratingB, scoreA, scoreB]\n",
            "Index: []\n"
          ]
        }
      ],
      "source": [
        "import pandas as pd\n",
        "import math\n",
        "\n",
        "#create a dataframe for our alternative analysis matrix\n",
        "AA = pd.DataFrame(columns = ['criteria', 'weight', 'ratingA', 'ratingB', 'scoreA', 'scoreB'])\n",
        "print(AA)"
      ]
    },
    {
      "cell_type": "code",
      "source": [
        "AA['criteria'] = ['risk', 'ROI', 'customerSatisfaction', 'feasibility', 'strategicAlignment']\n",
        "print(AA)"
      ],
      "metadata": {
        "colab": {
          "base_uri": "https://localhost:8080/"
        },
        "id": "wpn4uS9i_GMb",
        "outputId": "2e0b1b87-f064-422b-cbc2-7ef63b221843"
      },
      "execution_count": null,
      "outputs": [
        {
          "output_type": "stream",
          "name": "stdout",
          "text": [
            "  cirteria weight ratingA ratingB scoreA scoreB              criteria\n",
            "0      NaN    NaN     NaN     NaN    NaN    NaN                  risk\n",
            "1      NaN    NaN     NaN     NaN    NaN    NaN                   ROI\n",
            "2      NaN    NaN     NaN     NaN    NaN    NaN  customerSatisfaction\n",
            "3      NaN    NaN     NaN     NaN    NaN    NaN           feasibility\n",
            "4      NaN    NaN     NaN     NaN    NaN    NaN    strategicAlignment\n"
          ]
        }
      ]
    },
    {
      "cell_type": "code",
      "source": [
        "AA['weight'] = [0.1, 0.15, 0.3, .15, .3]\n",
        "print(AA)"
      ],
      "metadata": {
        "colab": {
          "base_uri": "https://localhost:8080/"
        },
        "id": "E5GUSVWX_cOU",
        "outputId": "a2501f11-c6c0-4c18-bfb2-cf0030156e64"
      },
      "execution_count": null,
      "outputs": [
        {
          "output_type": "stream",
          "name": "stdout",
          "text": [
            "  cirteria  weight ratingA ratingB scoreA scoreB              criteria\n",
            "0      NaN    0.10     NaN     NaN    NaN    NaN                  risk\n",
            "1      NaN    0.15     NaN     NaN    NaN    NaN                   ROI\n",
            "2      NaN    0.30     NaN     NaN    NaN    NaN  customerSatisfaction\n",
            "3      NaN    0.15     NaN     NaN    NaN    NaN           feasibility\n",
            "4      NaN    0.30     NaN     NaN    NaN    NaN    strategicAlignment\n"
          ]
        }
      ]
    },
    {
      "cell_type": "code",
      "source": [
        "AA['ratingA'] = [6, 5, 3, 4, 10]\n",
        "AA['ratingB'] = [3, 10, 9, 7, 4]\n",
        "\n",
        "for index, row in AA.iterrows():\n",
        "  AA['scoreA'][index] = row['ratingA']*row['weight']\n",
        "  AA['scoreB'][index] = row['ratingB']*row['weight']\n",
        "\n",
        "print(AA)"
      ],
      "metadata": {
        "colab": {
          "base_uri": "https://localhost:8080/"
        },
        "id": "yu41FDlv_o_3",
        "outputId": "c896a229-e1f3-474b-a987-536319d9d83b"
      },
      "execution_count": null,
      "outputs": [
        {
          "output_type": "stream",
          "name": "stdout",
          "text": [
            "  cirteria  weight  ratingA  ratingB scoreA scoreB              criteria\n",
            "0      NaN    0.10        6        3    0.6    0.3                  risk\n",
            "1      NaN    0.15        5       10   0.75    1.5                   ROI\n",
            "2      NaN    0.30        3        9    0.9    2.7  customerSatisfaction\n",
            "3      NaN    0.15        4        7    0.6   1.05           feasibility\n",
            "4      NaN    0.30       10        4      3    1.2    strategicAlignment\n"
          ]
        },
        {
          "output_type": "stream",
          "name": "stderr",
          "text": [
            "/usr/local/lib/python3.7/dist-packages/ipykernel_launcher.py:5: SettingWithCopyWarning: \n",
            "A value is trying to be set on a copy of a slice from a DataFrame\n",
            "\n",
            "See the caveats in the documentation: https://pandas.pydata.org/pandas-docs/stable/user_guide/indexing.html#returning-a-view-versus-a-copy\n",
            "  \"\"\"\n",
            "/usr/local/lib/python3.7/dist-packages/ipykernel_launcher.py:6: SettingWithCopyWarning: \n",
            "A value is trying to be set on a copy of a slice from a DataFrame\n",
            "\n",
            "See the caveats in the documentation: https://pandas.pydata.org/pandas-docs/stable/user_guide/indexing.html#returning-a-view-versus-a-copy\n",
            "  \n"
          ]
        }
      ]
    },
    {
      "cell_type": "code",
      "source": [
        "totalScoreA = 0\n",
        "totalScoreB = 0\n",
        "for index, row in AA.iterrows():\n",
        "  totalScoreA += row['scoreA']\n",
        "  totalScoreB += row['scoreB']\n",
        "\n",
        "print('the total score for A is {:.2f} and for B is {:.2f}'.format(totalScoreA, totalScoreB))"
      ],
      "metadata": {
        "colab": {
          "base_uri": "https://localhost:8080/"
        },
        "id": "O2ybVC5oA0YX",
        "outputId": "9ab10146-818d-4d78-f449-f8892e39170e"
      },
      "execution_count": null,
      "outputs": [
        {
          "output_type": "stream",
          "name": "stdout",
          "text": [
            "the total score for A is 5.85 and for B is 6.75\n"
          ]
        }
      ]
    }
  ]
}