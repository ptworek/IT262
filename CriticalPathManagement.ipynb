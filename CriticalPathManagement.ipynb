{
  "nbformat": 4,
  "nbformat_minor": 0,
  "metadata": {
    "colab": {
      "name": "CriticalPathManagement.ipynb",
      "provenance": [],
      "mount_file_id": "1lVx9kF9XeY3vA2BkDc9--inS1korNfV8",
      "authorship_tag": "ABX9TyP1/hwiBRaGP8cbrfpyK8W9",
      "include_colab_link": true
    },
    "kernelspec": {
      "name": "python3",
      "display_name": "Python 3"
    },
    "language_info": {
      "name": "python"
    }
  },
  "cells": [
    {
      "cell_type": "markdown",
      "metadata": {
        "id": "view-in-github",
        "colab_type": "text"
      },
      "source": [
        "<a href=\"https://colab.research.google.com/github/ptworek/IT262/blob/main/CriticalPathManagement.ipynb\" target=\"_parent\"><img src=\"https://colab.research.google.com/assets/colab-badge.svg\" alt=\"Open In Colab\"/></a>"
      ]
    },
    {
      "cell_type": "code",
      "execution_count": 38,
      "metadata": {
        "colab": {
          "base_uri": "https://localhost:8080/"
        },
        "id": "mJswgABaKtGt",
        "outputId": "9cc53f61-fe09-47d3-893a-67c679db75bc"
      },
      "outputs": [
        {
          "output_type": "stream",
          "name": "stdout",
          "text": [
            "Index(['A', 'B', 'C', 'D', 'E', 'F', 'G', 'H', 'I', 'J', 'EOP'], dtype='object', name='tasks')\n",
            "  tasks pred  ai   mi  bi\n",
            "0     A  NaN    3   6   9\n",
            "1     B  NaN    2   5   6\n"
          ]
        }
      ],
      "source": [
        "import pandas as pd\n",
        "import tensorflow_probability as tfp\n",
        "tfd = tfp.distributions\n",
        "\n",
        "tasksDF = pd.read_csv(\"/content/drive/MyDrive/College/IT 262/PERT-CPM.csv\")\n",
        "\n",
        "taskNames = tasksDF['tasks']\n",
        "\n",
        "simulationDF = pd.DataFrame(columns = taskNames)\n",
        "\n",
        "print(simulationDF.columns)\n",
        "for index, task in tasksDF.iterrows():\n",
        "  dist = tfd.PERT(low = task['ai '], peak = task['mi'], high = task['bi'], temperature = 4)\n",
        "  simulationDF[task['tasks']] = dist.sample(1000)\n",
        "\n",
        "print(tasksDF.head(2))"
      ]
    },
    {
      "cell_type": "code",
      "source": [
        "paths = ['ADEJ', 'BCDEJ', 'BCFGJ', 'BCFHJ', 'BI']\n",
        "pathsDF = pd.DataFrame(columns=paths)\n",
        "ADEJ = []\n",
        "BCDEJ = []\n",
        "BCFGJ = []\n",
        "BCFHJ = []\n",
        "BI = []\n",
        "\n",
        "for index, row in simulationDF.iterrows():\n",
        "    ADEJ.append(row['A']+row['D']+row['E']+row['J'])\n",
        "    BCDEJ.append(row['B']+row['C']+row['D']+row['E']+row['J'])\n",
        "    BCFGJ.append(row['B']+row['C']+row['F']+row['G']+row['J'])\n",
        "    BCFHJ.append(row['B']+row['C']+row['F']+row['H']+row['J'])\n",
        "    BI.append(row['B']+row['I'])\n",
        "\n",
        "pathsDF['ADEJ'] = ADEJ\n",
        "pathsDF['BCDEJ'] = BCDEJ\n",
        "pathsDF['BCFGJ'] = BCFGJ\n",
        "pathsDF['BCFHJ'] = BCFHJ\n",
        "pathsDF['BI'] = BI\n",
        "\n",
        "pathsDF.head(2)\n",
        "\n",
        "pathsDF['critical'] = pathsDF.idxmax(axis = 1)\n",
        "\n",
        "print(pathsDF.critical.value_counts())"
      ],
      "metadata": {
        "colab": {
          "base_uri": "https://localhost:8080/"
        },
        "id": "1EqSDJNoMn9k",
        "outputId": "bc6e496b-aa7e-43dc-fce5-0939859b8868"
      },
      "execution_count": 39,
      "outputs": [
        {
          "output_type": "stream",
          "name": "stdout",
          "text": [
            "BCDEJ    337\n",
            "BCFGJ    252\n",
            "BI       240\n",
            "BCFHJ    128\n",
            "ADEJ      43\n",
            "Name: critical, dtype: int64\n"
          ]
        }
      ]
    }
  ]
}