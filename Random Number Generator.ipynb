{
  "nbformat": 4,
  "nbformat_minor": 0,
  "metadata": {
    "colab": {
      "name": "CriticalPathManagement.ipynb",
      "provenance": [],
      "mount_file_id": "1zUeQ9FnZLw2N-z4ejv8jHO_0eqpvh6Yc",
      "authorship_tag": "ABX9TyPwplyThN7YF5pVXANvCBQn",
      "include_colab_link": true
    },
    "kernelspec": {
      "name": "python3",
      "display_name": "Python 3"
    },
    "language_info": {
      "name": "python"
    }
  },
  "cells": [
    {
      "cell_type": "markdown",
      "metadata": {
        "id": "view-in-github",
        "colab_type": "text"
      },
      "source": [
        "<a href=\"https://colab.research.google.com/github/ptworek/IT262/blob/main/Random%20Number%20Generator.ipynb\" target=\"_parent\"><img src=\"https://colab.research.google.com/assets/colab-badge.svg\" alt=\"Open In Colab\"/></a>"
      ]
    },
    {
      "cell_type": "code",
      "execution_count": 8,
      "metadata": {
        "colab": {
          "base_uri": "https://localhost:8080/"
        },
        "id": "88FkqV61HY7h",
        "outputId": "4a7d2d55-345a-4eb0-bbfd-952da5d69bc2"
      },
      "outputs": [
        {
          "output_type": "stream",
          "name": "stdout",
          "text": [
            "Index(['A', 'B', 'C', 'D', 'E', 'F', 'G', 'H', 'I', 'J', 'EOP'], dtype='object', name='tasks')\n",
            "tasks         A         B         C         D         E         F         G  \\\n",
            "0      6.792449  5.684336  3.831959  2.965153  3.009933  1.701929  3.189443   \n",
            "1      6.607528  4.941529  2.329041  2.217666  6.264120  3.623257  3.244223   \n",
            "\n",
            "tasks         H          I         J  EOP  \n",
            "0      2.353547  15.113016  2.871691  NaN  \n",
            "1      4.183383   8.856261  2.825083  NaN  \n"
          ]
        }
      ],
      "source": [
        "import pandas as pd\n",
        "import tensorflow_probability as tfp\n",
        "tfd = tfp.distributions\n",
        "\n",
        "tasksDF = pd.read_csv(\"/content/drive/MyDrive/College/IT 262/PERT-CPM.csv\")\n",
        "taskNames = tasksDF['tasks']\n",
        "\n",
        "simulationDF = pd.DataFrame(columns = taskNames)\n",
        "\n",
        "print(simulationDF.columns)\n",
        "for index, task in tasksDF.iterrows():\n",
        "  dist = tfd.PERT(low = task['ai '], peak = task['mi'], high = task['bi'], temperature = 4)\n",
        "  simulationDF[task['tasks']] = dist.sample(1000)\n",
        "\n",
        "print(simulationDF.head(2))\n",
        "#simulationDF.to_csv('', index = False)"
      ]
    },
    {
      "cell_type": "code",
      "source": [
        ""
      ],
      "metadata": {
        "id": "vC94FEN9JCdo"
      },
      "execution_count": null,
      "outputs": []
    }
  ]
}